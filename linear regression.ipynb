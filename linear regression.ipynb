{
 "cells": [
  {
   "cell_type": "code",
   "execution_count": 1,
   "metadata": {},
   "outputs": [],
   "source": [
    "import pandas as pd\n",
    "import numpy as np\n",
    "from matplotlib import pyplot as plt"
   ]
  },
  {
   "cell_type": "code",
   "execution_count": 2,
   "metadata": {},
   "outputs": [],
   "source": [
    "data = pd.read_csv(r\"D:\\github\\LINEAR REGRESSION\\Real estate valuation data set.csv\")"
   ]
  },
  {
   "cell_type": "code",
   "execution_count": 3,
   "metadata": {},
   "outputs": [
    {
     "name": "stdout",
     "output_type": "stream",
     "text": [
      "(414, 7)\n"
     ]
    },
    {
     "data": {
      "text/html": [
       "<div>\n",
       "<style scoped>\n",
       "    .dataframe tbody tr th:only-of-type {\n",
       "        vertical-align: middle;\n",
       "    }\n",
       "\n",
       "    .dataframe tbody tr th {\n",
       "        vertical-align: top;\n",
       "    }\n",
       "\n",
       "    .dataframe thead th {\n",
       "        text-align: right;\n",
       "    }\n",
       "</style>\n",
       "<table border=\"1\" class=\"dataframe\">\n",
       "  <thead>\n",
       "    <tr style=\"text-align: right;\">\n",
       "      <th></th>\n",
       "      <th>No</th>\n",
       "      <th>X1 house age</th>\n",
       "      <th>X2 distance to the nearest MRT station</th>\n",
       "      <th>X3 no of convenience stores</th>\n",
       "      <th>X4 latitude</th>\n",
       "      <th>X5 longitude</th>\n",
       "      <th>Y house price of unit area</th>\n",
       "    </tr>\n",
       "  </thead>\n",
       "  <tbody>\n",
       "    <tr>\n",
       "      <th>0</th>\n",
       "      <td>1</td>\n",
       "      <td>32.0</td>\n",
       "      <td>84.87882</td>\n",
       "      <td>10</td>\n",
       "      <td>24.98298</td>\n",
       "      <td>121.54024</td>\n",
       "      <td>37.9</td>\n",
       "    </tr>\n",
       "    <tr>\n",
       "      <th>1</th>\n",
       "      <td>2</td>\n",
       "      <td>19.5</td>\n",
       "      <td>306.59470</td>\n",
       "      <td>9</td>\n",
       "      <td>24.98034</td>\n",
       "      <td>121.53951</td>\n",
       "      <td>42.2</td>\n",
       "    </tr>\n",
       "    <tr>\n",
       "      <th>2</th>\n",
       "      <td>3</td>\n",
       "      <td>13.3</td>\n",
       "      <td>561.98450</td>\n",
       "      <td>5</td>\n",
       "      <td>24.98746</td>\n",
       "      <td>121.54391</td>\n",
       "      <td>47.3</td>\n",
       "    </tr>\n",
       "    <tr>\n",
       "      <th>3</th>\n",
       "      <td>4</td>\n",
       "      <td>13.3</td>\n",
       "      <td>561.98450</td>\n",
       "      <td>5</td>\n",
       "      <td>24.98746</td>\n",
       "      <td>121.54391</td>\n",
       "      <td>54.8</td>\n",
       "    </tr>\n",
       "    <tr>\n",
       "      <th>4</th>\n",
       "      <td>5</td>\n",
       "      <td>5.0</td>\n",
       "      <td>390.56840</td>\n",
       "      <td>5</td>\n",
       "      <td>24.97937</td>\n",
       "      <td>121.54245</td>\n",
       "      <td>43.1</td>\n",
       "    </tr>\n",
       "  </tbody>\n",
       "</table>\n",
       "</div>"
      ],
      "text/plain": [
       "   No  X1 house age  X2 distance to the nearest MRT station  \\\n",
       "0   1          32.0                                84.87882   \n",
       "1   2          19.5                               306.59470   \n",
       "2   3          13.3                               561.98450   \n",
       "3   4          13.3                               561.98450   \n",
       "4   5           5.0                               390.56840   \n",
       "\n",
       "   X3 no of convenience stores  X4 latitude  X5 longitude  \\\n",
       "0                           10     24.98298     121.54024   \n",
       "1                            9     24.98034     121.53951   \n",
       "2                            5     24.98746     121.54391   \n",
       "3                            5     24.98746     121.54391   \n",
       "4                            5     24.97937     121.54245   \n",
       "\n",
       "   Y house price of unit area  \n",
       "0                        37.9  \n",
       "1                        42.2  \n",
       "2                        47.3  \n",
       "3                        54.8  \n",
       "4                        43.1  "
      ]
     },
     "execution_count": 3,
     "metadata": {},
     "output_type": "execute_result"
    }
   ],
   "source": [
    "print(data.shape)\n",
    "data.head()"
   ]
  },
  {
   "cell_type": "code",
   "execution_count": 4,
   "metadata": {},
   "outputs": [
    {
     "data": {
      "text/plain": [
       "Index(['No', 'X1 house age', 'X2 distance to the nearest MRT station',\n",
       "       'X3 no of convenience stores', 'X4 latitude', 'X5 longitude',\n",
       "       'Y house price of unit area'],\n",
       "      dtype='object')"
      ]
     },
     "execution_count": 4,
     "metadata": {},
     "output_type": "execute_result"
    }
   ],
   "source": [
    "data.columns"
   ]
  },
  {
   "cell_type": "code",
   "execution_count": 5,
   "metadata": {},
   "outputs": [],
   "source": [
    "#training set X1 house age\n",
    "X=pd.DataFrame(data, columns=['X1 house age']).values"
   ]
  },
  {
   "cell_type": "code",
   "execution_count": 6,
   "metadata": {},
   "outputs": [],
   "source": [
    "Y = pd.DataFrame(data, columns=['Y house price of unit area']).values\n"
   ]
  },
  {
   "cell_type": "code",
   "execution_count": 7,
   "metadata": {},
   "outputs": [
    {
     "name": "stdout",
     "output_type": "stream",
     "text": [
      "[-0.25148842] [42.43469705]\n"
     ]
    }
   ],
   "source": [
    "mean_x = np.mean(X)\n",
    "mean_y = np.mean(Y)\n",
    "\n",
    "n= len(X)\n",
    "# calculate b1 and b2\n",
    "numer = 0\n",
    "denom = 0\n",
    "for i in range(n):\n",
    "    numer += (X[i] - mean_x) * (Y[i] - mean_y)\n",
    "    denom += (X[i] -mean_x) ** 2\n",
    "b1 = numer/denom\n",
    "b0 =mean_y -(b1 * mean_x)\n",
    "\n",
    "print(b1,b0)"
   ]
  },
  {
   "cell_type": "code",
   "execution_count": 8,
   "metadata": {},
   "outputs": [
    {
     "data": {
      "image/png": "[encoded data removed]",
      "text/plain": [
       "<Figure size 432x288 with 1 Axes>"
      ]
     },
     "metadata": {
      "needs_background": "light"
     },
     "output_type": "display_data"
    }
   ],
   "source": [
    "max_x = np.max(X) + 100\n",
    "min_x = np.min(X) -100\n",
    "\n",
    "#calclating line value x and y\n",
    "x = np.linspace(min_x, max_x, 1000)\n",
    "y = b0 + b1 * x\n",
    "plt.plot(x,y, color='blue', label= 'Regression line')\n",
    "plt.scatter(X,Y, color='red', label='scatter plot')\n",
    "plt.xlabel('X1 house age',fontsize=15)\n",
    "plt.ylabel('Y house price of unit area',fontsize=15)\n",
    "plt.title('the actual Y values and predicted values using each feature', fontsize=15)\n",
    "plt.legend()\n",
    "plt.show()"
   ]
  },
  {
   "cell_type": "code",
   "execution_count": 9,
   "metadata": {},
   "outputs": [
    {
     "name": "stdout",
     "output_type": "stream",
     "text": [
      "[[-29.68353895 -29.6221647  -29.56079045 ...  31.50658912  31.56796337\n",
      "   31.62933762]\n",
      " [-25.38353895 -25.3221647  -25.26079045 ...  35.80658912  35.86796337\n",
      "   35.92933762]\n",
      " [-20.28353895 -20.2221647  -20.16079045 ...  40.90658912  40.96796337\n",
      "   41.02933762]\n",
      " ...\n",
      " [-26.98353895 -26.9221647  -26.86079045 ...  34.20658912  34.26796337\n",
      "   34.32933762]\n",
      " [-15.08353895 -15.0221647  -14.96079045 ...  46.10658912  46.16796337\n",
      "   46.22933762]\n",
      " [ -3.68353895  -3.6221647   -3.56079045 ...  57.50658912  57.56796337\n",
      "   57.62933762]]\n"
     ]
    }
   ],
   "source": [
    "error1 = Y-y\n",
    "print(error1)"
   ]
  },
  {
   "cell_type": "code",
   "execution_count": 10,
   "metadata": {},
   "outputs": [
    {
     "name": "stdout",
     "output_type": "stream",
     "text": [
      "499.6978965770409\n"
     ]
    }
   ],
   "source": [
    "error_all_avg=np.square(np.subtract(Y,y)).mean()\n",
    "print(error_all_avg)"
   ]
  },
  {
   "cell_type": "code",
   "execution_count": 11,
   "metadata": {},
   "outputs": [],
   "source": [
    "#X2 distance to the nearest MRT station\n",
    "X=pd.DataFrame(data, columns=['X2 distance to the nearest MRT station']).values"
   ]
  },
  {
   "cell_type": "code",
   "execution_count": 12,
   "metadata": {},
   "outputs": [
    {
     "name": "stdout",
     "output_type": "stream",
     "text": [
      "[-0.00726205] [45.85142706]\n"
     ]
    }
   ],
   "source": [
    "mean_x = np.mean(X)\n",
    "mean_y = np.mean(Y)\n",
    "\n",
    "n= len(X)\n",
    "# calculate b1 and b2\n",
    "numer = 0\n",
    "denom = 0\n",
    "for i in range(n):\n",
    "    numer += (X[i] - mean_x) * (Y[i] - mean_y)\n",
    "    denom += (X[i] -mean_x) ** 2\n",
    "b1 = numer/denom\n",
    "b0 =mean_y -(b1 * mean_x)\n",
    "\n",
    "print(b1,b0)"
   ]
  },
  {
   "cell_type": "code",
   "execution_count": 13,
   "metadata": {},
   "outputs": [
    {
     "data": {
      "image/png": "[encoded data removed]",
      "text/plain": [
       "<Figure size 432x288 with 1 Axes>"
      ]
     },
     "metadata": {
      "needs_background": "light"
     },
     "output_type": "display_data"
    }
   ],
   "source": [
    "max_x = np.max(X) + 100\n",
    "min_x = np.min(X) -100\n",
    "\n",
    "#calclating line value x and y\n",
    "x = np.linspace(min_x, max_x, 1000)\n",
    "y = b0 + b1 * x\n",
    "\n",
    "plt.plot(x,y, color='blue', label= 'Regression line')\n",
    "plt.scatter(X,Y, color='red', label='scatter plot')\n",
    "plt.xlabel('X2 distance to the nearest MRT station',fontsize=15)\n",
    "plt.ylabel('Y house price of unit area',fontsize=15)\n",
    "plt.title('the actual Y values and predicted values using each feature', fontsize=15)\n",
    "plt.legend()\n",
    "plt.show()\n"
   ]
  },
  {
   "cell_type": "code",
   "execution_count": 14,
   "metadata": {},
   "outputs": [
    {
     "name": "stdout",
     "output_type": "stream",
     "text": [
      "[[-8.50782483 -8.45937743 -8.41093004 ... 39.79422672 39.84267411\n",
      "  39.89112151]\n",
      " [-4.20782483 -4.15937743 -4.11093004 ... 44.09422672 44.14267411\n",
      "  44.19112151]\n",
      " [ 0.89217517  0.94062257  0.98906996 ... 49.19422672 49.24267411\n",
      "  49.29112151]\n",
      " ...\n",
      " [-5.80782483 -5.75937743 -5.71093004 ... 42.49422672 42.54267411\n",
      "  42.59112151]\n",
      " [ 6.09217517  6.14062257  6.18906996 ... 54.39422672 54.44267411\n",
      "  54.49112151]\n",
      " [17.49217517 17.54062257 17.58906996 ... 65.79422672 65.84267411\n",
      "  65.89112151]]\n"
     ]
    }
   ],
   "source": [
    "error = Y-y\n",
    "print(error)\n"
   ]
  },
  {
   "cell_type": "code",
   "execution_count": 15,
   "metadata": {},
   "outputs": [
    {
     "name": "stdout",
     "output_type": "stream",
     "text": [
      "629.0359388363603\n"
     ]
    }
   ],
   "source": [
    "error_all_avg=np.square(np.subtract(Y,y)).mean()\n",
    "print(error_all_avg)"
   ]
  },
  {
   "cell_type": "code",
   "execution_count": 16,
   "metadata": {},
   "outputs": [],
   "source": [
    "#training set X3 no of convenience stores\n",
    "X=pd.DataFrame(data, columns=['X3 no of convenience stores']).values"
   ]
  },
  {
   "cell_type": "code",
   "execution_count": 17,
   "metadata": {},
   "outputs": [
    {
     "name": "stdout",
     "output_type": "stream",
     "text": [
      "[2.63765346] [27.18110478]\n"
     ]
    }
   ],
   "source": [
    "mean_x = np.mean(X)\n",
    "mean_y = np.mean(Y)\n",
    "\n",
    "n= len(X)\n",
    "# calculate b1 and b2\n",
    "numer = 0\n",
    "denom = 0\n",
    "for i in range(n):\n",
    "    numer += (X[i] - mean_x) * (Y[i] - mean_y)\n",
    "    denom += (X[i] -mean_x) ** 2\n",
    "b1 = numer/denom\n",
    "b0 =mean_y -(b1 * mean_x)\n",
    "\n",
    "print(b1,b0)"
   ]
  },
  {
   "cell_type": "code",
   "execution_count": 18,
   "metadata": {},
   "outputs": [
    {
     "data": {
      "image/png": "[encoded data removed]",
      "text/plain": [
       "<Figure size 432x288 with 1 Axes>"
      ]
     },
     "metadata": {
      "needs_background": "light"
     },
     "output_type": "display_data"
    }
   ],
   "source": [
    "max_x = np.max(X) + 100\n",
    "min_x = np.min(X) -100\n",
    "\n",
    "#calclating line value x and y\n",
    "x = np.linspace(min_x, max_x, 1000)\n",
    "y = b0 + b1 * x\n",
    "\n",
    "plt.plot(x,y, color='blue', label= 'Regression line')\n",
    "plt.scatter(X,Y, color='red', label='scatter plot')\n",
    "plt.xlabel('X3 no of convenience stores',fontsize=15)\n",
    "plt.ylabel('Y house price of unit area',fontsize=15)\n",
    "plt.title('the actual Y values and predicted values using each feature', fontsize=15)\n",
    "plt.legend()\n",
    "plt.show()\n"
   ]
  },
  {
   "cell_type": "code",
   "execution_count": 19,
   "metadata": {},
   "outputs": [
    {
     "name": "stdout",
     "output_type": "stream",
     "text": [
      "[[ 274.48424156  273.92977987  273.37531818 ... -278.31406238\n",
      "  -278.86852407 -279.42298576]\n",
      " [ 278.78424156  278.22977987  277.67531818 ... -274.01406238\n",
      "  -274.56852407 -275.12298576]\n",
      " [ 283.88424156  283.32977987  282.77531818 ... -268.91406238\n",
      "  -269.46852407 -270.02298576]\n",
      " ...\n",
      " [ 277.18424156  276.62977987  276.07531818 ... -275.61406238\n",
      "  -276.16852407 -276.72298576]\n",
      " [ 289.08424156  288.52977987  287.97531818 ... -263.71406238\n",
      "  -264.26852407 -264.82298576]\n",
      " [ 300.48424156  299.92977987  299.37531818 ... -252.31406238\n",
      "  -252.86852407 -253.42298576]]\n"
     ]
    }
   ],
   "source": [
    "error = Y-y\n",
    "print(error)"
   ]
  },
  {
   "cell_type": "code",
   "execution_count": 20,
   "metadata": {},
   "outputs": [
    {
     "name": "stdout",
     "output_type": "stream",
     "text": [
      "25809.352255580507\n"
     ]
    }
   ],
   "source": [
    "error_all_avg=np.square(np.subtract(Y,y)).mean()\n",
    "print(error_all_avg)"
   ]
  },
  {
   "cell_type": "code",
   "execution_count": 21,
   "metadata": {},
   "outputs": [],
   "source": [
    "#training set X4 latitude\n",
    "X=pd.DataFrame(data, columns=['X4 latitude']).values"
   ]
  },
  {
   "cell_type": "code",
   "execution_count": 22,
   "metadata": {},
   "outputs": [
    {
     "name": "stdout",
     "output_type": "stream",
     "text": [
      "[598.96833159] [-14917.67809068]\n"
     ]
    }
   ],
   "source": [
    "mean_x = np.mean(X)\n",
    "mean_y = np.mean(Y)\n",
    "\n",
    "n= len(X)\n",
    "# calculate b1 and b2\n",
    "numer = 0\n",
    "denom = 0\n",
    "for i in range(n):\n",
    "    numer += (X[i] - mean_x) * (Y[i] - mean_y)\n",
    "    denom += (X[i] -mean_x) ** 2\n",
    "b1 = numer/denom\n",
    "b0 =mean_y -(b1 * mean_x)\n",
    "\n",
    "print(b1,b0)"
   ]
  },
  {
   "cell_type": "code",
   "execution_count": 23,
   "metadata": {},
   "outputs": [
    {
     "data": {
      "image/png": "[encoded data removed]",
      "text/plain": [
       "<Figure size 432x288 with 1 Axes>"
      ]
     },
     "metadata": {
      "needs_background": "light"
     },
     "output_type": "display_data"
    }
   ],
   "source": [
    "max_x = np.max(X) + 100\n",
    "min_x = np.min(X) -100\n",
    "\n",
    "#calclating line value x and y\n",
    "x = np.linspace(min_x, max_x, 1000)\n",
    "y = b0 + b1 * x\n",
    "\n",
    "plt.plot(x,y, color='blue', label= 'Regression line')\n",
    "plt.scatter(X,Y, color='red', label='scatter plot')\n",
    "plt.xlabel('X4 latitudes',fontsize=15)\n",
    "plt.ylabel('Y house price of unit area',fontsize=15)\n",
    "plt.title('the actual Y values and predicted values using each feature', fontsize=15)\n",
    "plt.legend()\n",
    "plt.show()\n"
   ]
  },
  {
   "cell_type": "code",
   "execution_count": 24,
   "metadata": {},
   "outputs": [
    {
     "name": "stdout",
     "output_type": "stream",
     "text": [
      "[[ 59918.89087866  59798.92782242  59678.96476618 ... -59684.2761935\n",
      "  -59804.23924974 -59924.20230598]\n",
      " [ 59923.19087866  59803.22782242  59683.26476618 ... -59679.9761935\n",
      "  -59799.93924974 -59919.90230598]\n",
      " [ 59928.29087866  59808.32782242  59688.36476618 ... -59674.8761935\n",
      "  -59794.83924974 -59914.80230598]\n",
      " ...\n",
      " [ 59921.59087866  59801.62782242  59681.66476618 ... -59681.5761935\n",
      "  -59801.53924974 -59921.50230598]\n",
      " [ 59933.49087866  59813.52782242  59693.56476618 ... -59669.6761935\n",
      "  -59789.63924974 -59909.60230598]\n",
      " [ 59944.89087866  59824.92782242  59704.96476618 ... -59658.2761935\n",
      "  -59778.23924974 -59898.20230598]]\n"
     ]
    }
   ],
   "source": [
    "error = Y-y \n",
    "print(error)"
   ]
  },
  {
   "cell_type": "code",
   "execution_count": 25,
   "metadata": {},
   "outputs": [
    {
     "name": "stdout",
     "output_type": "stream",
     "text": [
      "1199260230.6159222\n"
     ]
    }
   ],
   "source": [
    "error_all_avg=np.square(np.subtract(Y,y)).mean()\n",
    "print(error_all_avg)"
   ]
  },
  {
   "cell_type": "code",
   "execution_count": 26,
   "metadata": {},
   "outputs": [],
   "source": [
    "#training set X5 longitude\n",
    "X=pd.DataFrame(data, columns=['X5 longitude']).values"
   ]
  },
  {
   "cell_type": "code",
   "execution_count": 27,
   "metadata": {},
   "outputs": [
    {
     "name": "stdout",
     "output_type": "stream",
     "text": [
      "[463.93474413] [-56345.56858531]\n"
     ]
    }
   ],
   "source": [
    "mean_x = np.mean(X)\n",
    "mean_y = np.mean(Y)\n",
    "\n",
    "n= len(X)\n",
    "# calculate b1 and b2\n",
    "numer = 0\n",
    "denom = 0\n",
    "for i in range(n):\n",
    "    numer += (X[i] - mean_x) * (Y[i] - mean_y)\n",
    "    denom += (X[i] -mean_x) ** 2\n",
    "b1 = numer/denom\n",
    "b0 =mean_y -(b1 * mean_x)\n",
    "\n",
    "print(b1,b0)"
   ]
  },
  {
   "cell_type": "code",
   "execution_count": 28,
   "metadata": {},
   "outputs": [
    {
     "data": {
      "image/png": "[encoded data removed]",
      "text/plain": [
       "<Figure size 432x288 with 1 Axes>"
      ]
     },
     "metadata": {
      "needs_background": "light"
     },
     "output_type": "display_data"
    }
   ],
   "source": [
    "max_x = np.max(X) + 100\n",
    "min_x = np.min(X) -100\n",
    "\n",
    "#calclating line value x and y\n",
    "x = np.linspace(min_x, max_x, 1000)\n",
    "y = b0 + b1 * x\n",
    "\n",
    "plt.plot(x,y, color='blue', label= 'Regression line')\n",
    "plt.scatter(X,Y, color='red', label='scatter plot')\n",
    "plt.xlabel('X5 longitude', fontsize=15)\n",
    "plt.ylabel('Y house price of unit area',fontsize=15)\n",
    "plt.title('the actual Y values and predicted values using each feature', fontsize=15)\n",
    "plt.legend()\n",
    "plt.show()\n"
   ]
  },
  {
   "cell_type": "code",
   "execution_count": 29,
   "metadata": {},
   "outputs": [
    {
     "name": "stdout",
     "output_type": "stream",
     "text": [
      "[[ 46421.1519393   46328.22904227  46235.30614524 ... -46222.97639985\n",
      "  -46315.89929688 -46408.82219391]\n",
      " [ 46425.4519393   46332.52904227  46239.60614524 ... -46218.67639985\n",
      "  -46311.59929688 -46404.52219391]\n",
      " [ 46430.5519393   46337.62904227  46244.70614524 ... -46213.57639985\n",
      "  -46306.49929688 -46399.42219391]\n",
      " ...\n",
      " [ 46423.8519393   46330.92904227  46238.00614524 ... -46220.27639985\n",
      "  -46313.19929688 -46406.12219391]\n",
      " [ 46435.7519393   46342.82904227  46249.90614524 ... -46208.37639985\n",
      "  -46301.29929688 -46394.22219391]\n",
      " [ 46447.1519393   46354.22904227  46261.30614524 ... -46196.97639985\n",
      "  -46289.89929688 -46382.82219391]]\n"
     ]
    }
   ],
   "source": [
    "error = Y-y\n",
    "print(error)"
   ]
  },
  {
   "cell_type": "code",
   "execution_count": 30,
   "metadata": {},
   "outputs": [
    {
     "name": "stdout",
     "output_type": "stream",
     "text": [
      "719554903.5090662\n"
     ]
    }
   ],
   "source": [
    "error_all_avg= np.square(np.subtract(Y,y)).mean()\n",
    "print(error_all_avg)"
   ]
  }
 ],
 "metadata": {
  "kernelspec": {
   "display_name": "Python 3 (ipykernel)",
   "language": "python",
   "name": "python3"
  },
  "language_info": {
   "codemirror_mode": {
    "name": "ipython",
    "version": 3
   },
   "file_extension": ".py",
   "mimetype": "text/x-python",
   "name": "python",
   "nbconvert_exporter": "python",
   "pygments_lexer": "ipython3",
   "version": "3.10.3"
  }
 },
 "nbformat": 4,
 "nbformat_minor": 4
}
